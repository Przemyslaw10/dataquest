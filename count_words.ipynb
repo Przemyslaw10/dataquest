{
 "cells": [
  {
   "cell_type": "code",
   "execution_count": 1,
   "metadata": {
    "collapsed": false
   },
   "outputs": [],
   "source": [
    "from pipeline import Pipeline, build_csv\n",
    "from stop_words import stop_words\n",
    "from pprint import pprint\n",
    "from datetime import datetime\n",
    "from collections import Counter\n",
    "import string\n",
    "import json\n",
    "import csv\n",
    "import io"
   ]
  },
  {
   "cell_type": "code",
   "execution_count": 2,
   "metadata": {
    "collapsed": false
   },
   "outputs": [],
   "source": [
    "pipeline = Pipeline()\n",
    "\n",
    "@pipeline.task()\n",
    "def file_to_json():\n",
    "    with open('hn_stories_2014.json') as file:\n",
    "        stories = json.loads(file.read())['stories']\n",
    "    return stories\n",
    "\n",
    "\n",
    "@pipeline.task(depends_on=file_to_json)\n",
    "def filter_stories(stories):\n",
    "    for story in stories:\n",
    "        condition = story['points'] > 50\\\n",
    "            and story['num_comments'] > 1\\\n",
    "            and not story['title'].startswith('Ask HN')\n",
    "        if condition:\n",
    "            yield story\n",
    "\n",
    "@pipeline.task(depends_on=filter_stories)\n",
    "def json_to_csv(stories):\n",
    "    lines = []\n",
    "    for story in stories:\n",
    "        cols = ['objectID', 'created_at_i', 'url', 'points', 'title']\n",
    "        line = [story[col] for col in cols]\n",
    "        line[1] = datetime.fromtimestamp(line[1] / 1e3)\n",
    "        lines.append(line)\n",
    "    return build_csv(lines, header=cols, file=io.StringIO())\n",
    "\n",
    "@pipeline.task(depends_on=json_to_csv)\n",
    "def extract_titles(file):\n",
    "    csv_file = csv.reader(file)\n",
    "    header = next(csv_file)\n",
    "    title_idx = header.index('title')\n",
    "    for line in csv_file:\n",
    "        yield line[title_idx]\n",
    "\n",
    "@pipeline.task(depends_on=extract_titles)\n",
    "def clean_titles(titles):\n",
    "    for title in titles:\n",
    "        title = title.lower().translate(str.maketrans('', '', string.punctuation))\n",
    "        yield title\n",
    "\n",
    "\n",
    "@pipeline.task(depends_on=clean_titles)\n",
    "def build_keyword_dictionary(titles):\n",
    "    for title in titles:\n",
    "        words = title.split()\n",
    "        words = [word for word in words if word not in stop_words and word != '']\n",
    "        counter = Counter(words)\n",
    "        yield counter\n",
    "\n",
    "\n",
    "@pipeline.task(depends_on=build_keyword_dictionary)\n",
    "def top_words(counters):\n",
    "    top_words = Counter()\n",
    "    for counter in counters:\n",
    "        top_words.update(counter)\n",
    "    return top_words.most_common(100)"
   ]
  },
  {
   "cell_type": "code",
   "execution_count": 3,
   "metadata": {
    "collapsed": false
   },
   "outputs": [],
   "source": [
    "count = pipeline.run()"
   ]
  },
  {
   "cell_type": "code",
   "execution_count": 5,
   "metadata": {
    "collapsed": false,
    "scrolled": true
   },
   "outputs": [
    {
     "data": {
      "text/plain": [
       "[('new', 185),\n",
       " ('google', 167),\n",
       " ('bitcoin', 101),\n",
       " ('open', 92),\n",
       " ('programming', 90),\n",
       " ('web', 88),\n",
       " ('data', 85),\n",
       " ('video', 79),\n",
       " ('python', 76),\n",
       " ('code', 72),\n",
       " ('released', 71),\n",
       " ('facebook', 71),\n",
       " ('using', 70),\n",
       " ('javascript', 65),\n",
       " ('2013', 65),\n",
       " ('free', 64),\n",
       " ('source', 64),\n",
       " ('game', 63),\n",
       " ('internet', 62),\n",
       " ('c', 59),\n",
       " ('microsoft', 59),\n",
       " ('linux', 58),\n",
       " ('app', 57),\n",
       " ('pdf', 55),\n",
       " ('language', 54),\n",
       " ('work', 54),\n",
       " ('2014', 52),\n",
       " ('software', 52),\n",
       " ('startup', 51),\n",
       " ('apple', 50),\n",
       " ('use', 50),\n",
       " ('make', 50),\n",
       " ('security', 48),\n",
       " ('time', 48),\n",
       " ('yc', 48),\n",
       " ('github', 45),\n",
       " ('nsa', 45),\n",
       " ('windows', 44),\n",
       " ('way', 41),\n",
       " ('world', 41),\n",
       " ('like', 41),\n",
       " ('1', 41),\n",
       " ('project', 40),\n",
       " ('computer', 40),\n",
       " ('heartbleed', 40),\n",
       " ('git', 37),\n",
       " ('ios', 37),\n",
       " ('design', 37),\n",
       " ('dont', 37),\n",
       " ('users', 37),\n",
       " ('ceo', 36),\n",
       " ('os', 36),\n",
       " ('twitter', 36),\n",
       " ('life', 36),\n",
       " ('vs', 36),\n",
       " ('developer', 36),\n",
       " ('day', 35),\n",
       " ('big', 35),\n",
       " ('android', 34),\n",
       " ('online', 34),\n",
       " ('court', 33),\n",
       " ('simple', 33),\n",
       " ('years', 33),\n",
       " ('api', 32),\n",
       " ('guide', 32),\n",
       " ('apps', 32),\n",
       " ('mt', 32),\n",
       " ('learning', 32),\n",
       " ('browser', 32),\n",
       " ('says', 32),\n",
       " ('firefox', 31),\n",
       " ('site', 31),\n",
       " ('problem', 31),\n",
       " ('engine', 31),\n",
       " ('fast', 31),\n",
       " ('gox', 31),\n",
       " ('server', 31),\n",
       " ('mozilla', 31),\n",
       " ('amazon', 31),\n",
       " ('introducing', 30),\n",
       " ('year', 30),\n",
       " ('text', 29),\n",
       " ('better', 29),\n",
       " ('built', 29),\n",
       " ('people', 29),\n",
       " ('million', 29),\n",
       " ('stop', 29),\n",
       " ('support', 29),\n",
       " ('tech', 28),\n",
       " ('development', 28),\n",
       " ('does', 28),\n",
       " ('3', 28),\n",
       " ('inside', 27),\n",
       " ('best', 27),\n",
       " ('developers', 27),\n",
       " ('money', 27),\n",
       " ('billion', 27),\n",
       " ('website', 27),\n",
       " ('chrome', 27),\n",
       " ('did', 27)]"
      ]
     },
     "execution_count": 5,
     "metadata": {},
     "output_type": "execute_result"
    }
   ],
   "source": [
    "count[top_words]"
   ]
  },
  {
   "cell_type": "markdown",
   "metadata": {},
   "source": [
    "### TO DO\n",
    "_____\n",
    "* Rewrite the Pipeline class' output to save a file of the output for each task. This will allow \"checkpoint\" tasks so they don't have to be run twice.\n",
    "* Use the nltk package for more advanced natural language processing tasks.\n",
    "* Convert to a CSV before filtering, so we can keep all the stories from 2014 in a raw file.\n",
    "* Fetch the data from Hacker News directly from a JSON API. Instead of reading from the file provided, \n",
    "* Perform additional data processing using newer data"
   ]
  },
  {
   "cell_type": "code",
   "execution_count": null,
   "metadata": {
    "collapsed": true
   },
   "outputs": [],
   "source": []
  }
 ],
 "metadata": {
  "anaconda-cloud": {},
  "kernelspec": {
   "display_name": "Python 3",
   "language": "python",
   "name": "python3"
  },
  "language_info": {
   "codemirror_mode": {
    "name": "ipython",
    "version": 3
   },
   "file_extension": ".py",
   "mimetype": "text/x-python",
   "name": "python",
   "nbconvert_exporter": "python",
   "pygments_lexer": "ipython3",
   "version": "3.4.3"
  }
 },
 "nbformat": 4,
 "nbformat_minor": 1
}
